{
 "cells": [
  {
   "cell_type": "code",
   "execution_count": 1,
   "metadata": {
    "colab": {},
    "colab_type": "code",
    "id": "57A9jbCACxqd"
   },
   "outputs": [],
   "source": [
    "from torchvision import datasets\n",
    "import matplotlib.pyplot as plt\n",
    "from torch.utils.data import DataLoader\n",
    "import torch\n",
    "from torch import nn\n",
    "from torchvision import transforms\n",
    "import torch.nn.functional as F\n",
    "from torch import optim\n",
    "\n",
    "epochs=20\n",
    "batch_size=4\n",
    "learning_rate=0.0001\n",
    "\n",
    "#prep dataset\n",
    "trans = transforms.Compose([transforms.ToTensor(),transforms.Normalize((0.5,), (0.5,))])\n",
    "training_set=datasets.FashionMNIST('data',train=True,download=True,transform=trans)\n",
    "testing_set=datasets.FashionMNIST('data',train=False,download=True,transform=trans)\n",
    "train_data=DataLoader(training_set,shuffle=True,batch_size=batch_size)\n",
    "test_data=DataLoader(testing_set,shuffle=False,batch_size=batch_size)\n"
   ]
  },
  {
   "cell_type": "code",
   "execution_count": 2,
   "metadata": {
    "colab": {},
    "colab_type": "code",
    "id": "15OqOlpuQLHJ"
   },
   "outputs": [],
   "source": [
    "class CNN(nn.Module):\n",
    "  def __init__(self):\n",
    "    super(CNN,self).__init__()\n",
    "    self.conv_1 = nn.Conv2d(1,6,5)\n",
    "    self.conv_2 = nn.Conv2d(6,16,5)\n",
    "    self.fc_1 = nn.Linear(256,128)\n",
    "    self.fc_2 = nn.Linear(128,52)\n",
    "    self.fc_3 = nn.Linear(52,10)\n",
    "\n",
    "  def forward(self,x):\n",
    "    x = F.relu(self.conv_1(x))\n",
    "    x = F.max_pool2d(x,2)\n",
    "    x = F.relu(self.conv_2(x))\n",
    "    x = F.max_pool2d(x,2)\n",
    "    x=x.view(x.size(0), -1)\n",
    "    x = F.relu(self.fc_1(x))\n",
    "    x = F.relu(self.fc_2(x))\n",
    "    x= self.fc_3(x)\n",
    "    return x"
   ]
  },
  {
   "cell_type": "code",
   "execution_count": 3,
   "metadata": {
    "colab": {
     "base_uri": "https://localhost:8080/",
     "height": 255
    },
    "colab_type": "code",
    "id": "dExC1EaMTEPt",
    "outputId": "1575011a-8ccf-411a-fa63-bf7875985f76"
   },
   "outputs": [
    {
     "name": "stdout",
     "output_type": "stream",
     "text": [
      "CNN(\n",
      "  (conv_1): Conv2d(1, 6, kernel_size=(5, 5), stride=(1, 1))\n",
      "  (conv_2): Conv2d(6, 16, kernel_size=(5, 5), stride=(1, 1))\n",
      "  (fc_1): Linear(in_features=256, out_features=128, bias=True)\n",
      "  (fc_2): Linear(in_features=128, out_features=52, bias=True)\n",
      "  (fc_3): Linear(in_features=52, out_features=10, bias=True)\n",
      ")\n"
     ]
    },
    {
     "data": {
      "text/plain": [
       "CNN(\n",
       "  (conv_1): Conv2d(1, 6, kernel_size=(5, 5), stride=(1, 1))\n",
       "  (conv_2): Conv2d(6, 16, kernel_size=(5, 5), stride=(1, 1))\n",
       "  (fc_1): Linear(in_features=256, out_features=128, bias=True)\n",
       "  (fc_2): Linear(in_features=128, out_features=52, bias=True)\n",
       "  (fc_3): Linear(in_features=52, out_features=10, bias=True)\n",
       ")"
      ]
     },
     "execution_count": 3,
     "metadata": {},
     "output_type": "execute_result"
    }
   ],
   "source": [
    "my_net = CNN()\n",
    "print(my_net)\n",
    "cal_loss=nn.CrossEntropyLoss()\n",
    "optimizer=optim.Adam(my_net.parameters(),lr=learning_rate)\n",
    "device = torch.device('cuda:0' if torch.cuda.is_available() else 'cpu')\n",
    "my_net.to(device)"
   ]
  },
  {
   "cell_type": "code",
   "execution_count": null,
   "metadata": {
    "colab": {
     "base_uri": "https://localhost:8080/",
     "height": 1000
    },
    "colab_type": "code",
    "id": "grooXL8qa7Bz",
    "outputId": "5648da4d-a32c-4055-9167-d1a8abd24054"
   },
   "outputs": [
    {
     "name": "stdout",
     "output_type": "stream",
     "text": [
      "epoch.........0\n"
     ]
    }
   ],
   "source": [
    "#training\n",
    "for epoch in range(epochs):\n",
    "  print (\"epoch.........\"+str(epoch))\n",
    "  running_loss=0\n",
    "  training_accuracy=0\n",
    "  my_net.train()\n",
    "  for img,lbl in train_data:\n",
    "    optimizer.zero_grad()\n",
    "    score=my_net(img)\n",
    "    loss=cal_loss(score,lbl)\n",
    "    loss.backward()\n",
    "    optimizer.step()\n",
    "    running_loss += loss.detach().numpy()\n",
    "    training_accuracy += (score.argmax(dim=1) == lbl).sum().numpy()\n",
    "\n",
    "  test_running_loss=0\n",
    "  test_accuracy=0\n",
    "  my_net.eval()\n",
    "  with torch.no_grad():\n",
    "    for img,lbl in test_data:\n",
    "        score = my_net(img)\n",
    "        loss = cal_loss(score, lbl)\n",
    "        test_running_loss += loss.detach().numpy()\n",
    "        test_accuracy += (score.argmax(dim=1) == lbl).sum().numpy()\n",
    "\n",
    "  train_loss = running_loss/len(train_data)\n",
    "  test_loss = test_running_loss/len(test_data)\n",
    "  training_accuracy /= len(training_set)\n",
    "  test_accuracy /= len(testing_set)\n",
    "  print('    loss     (train, test): {:.4f},  {:.4f}'.format(train_loss, test_loss))\n",
    "  print('    accuracy (train, test): {:.4f},  {:.4f}'.format(training_accuracy, test_accuracy)) \n"
   ]
  },
  {
   "cell_type": "code",
   "execution_count": null,
   "metadata": {},
   "outputs": [],
   "source": []
  }
 ],
 "metadata": {
  "colab": {
   "name": "Fashion_convnets.ipynb",
   "provenance": []
  },
  "kernelspec": {
   "display_name": "Python 3",
   "language": "python",
   "name": "python3"
  },
  "language_info": {
   "codemirror_mode": {
    "name": "ipython",
    "version": 3
   },
   "file_extension": ".py",
   "mimetype": "text/x-python",
   "name": "python",
   "nbconvert_exporter": "python",
   "pygments_lexer": "ipython3",
   "version": "3.5.4"
  }
 },
 "nbformat": 4,
 "nbformat_minor": 1
}
