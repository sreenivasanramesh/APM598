{
 "cells": [
  {
   "cell_type": "markdown",
   "metadata": {},
   "source": [
    "# Homework 3\n",
    "Team: <br/>\n",
    "Tanush Vinay             1217104733<br/>\n",
    "Sreenivasan Ramesh       1217310193<br/>\n",
    "Paarvendhan Puviyarasu   1217390616<br/>\n",
    "Muskan Singhal           1217107320<br/>\n",
    "\n"
   ]
  },
  {
   "cell_type": "code",
   "execution_count": 1,
   "metadata": {},
   "outputs": [
    {
     "name": "stderr",
     "output_type": "stream",
     "text": [
      "[nltk_data] Downloading package punkt to /Users/vasan/nltk_data...\n",
      "[nltk_data]   Package punkt is already up-to-date!\n"
     ]
    },
    {
     "data": {
      "text/plain": [
       "True"
      ]
     },
     "execution_count": 1,
     "metadata": {},
     "output_type": "execute_result"
    }
   ],
   "source": [
    "import nltk \n",
    "from nltk.tokenize import sent_tokenize, word_tokenize\n",
    "from nltk.tokenize import RegexpTokenizer\n",
    "import operator\n",
    "from itertools import islice\n",
    "from nltk.util import ngrams\n",
    "import collections\n",
    "from decimal import *\n",
    "import numpy as np\n",
    "from collections import OrderedDict\n",
    "from numpy import linalg as LA\n",
    "import matplotlib.pyplot as plt\n",
    "import itertools\n",
    "import pprint\n",
    "import torch\n",
    "import torch.nn as nn\n",
    "from torch.autograd import Variable\n",
    "\n",
    "#Pachage required for tokenizer to work - downloads if it does not exist\n",
    "nltk.download('punkt')\n"
   ]
  },
  {
   "cell_type": "markdown",
   "metadata": {},
   "source": [
    "## Exercise 1\n",
    "\n",
    "Note: We are only tokenizing alphanumeric words and ignoring all punctuations "
   ]
  },
  {
   "cell_type": "code",
   "execution_count": 2,
   "metadata": {},
   "outputs": [
    {
     "name": "stdout",
     "output_type": "stream",
     "text": [
      "\n",
      "\n",
      "Exercise 1.a - Count of words and unique words\n",
      "Total Words  119160\n",
      "Unique Words  7333\n",
      "\n",
      "\n",
      "Exercise 1.b - Top 5 words with length of 8\n",
      "[('certainly', 235), ('knowledge', 152), ('injustice', 111), ('therefore', 109), ('question', 99)]\n",
      "\n",
      "\n",
      "Exercise 1.c\n",
      "Built bigram... \n",
      "[(('the', 'republic'), 2), (('republic', 'persons'), 1), (('persons', 'of'), 3)] .... etc\n",
      "Lets now try the probability of 'the republic'\n",
      "0.0002818489289740699\n",
      "\n",
      "\n",
      "Exercise 1.c\n",
      "Bigram model preplexity:  41.23128859784521087914903489\n"
     ]
    }
   ],
   "source": [
    "\n",
    "\n",
    "\n",
    "######################### Part 1(a) ##############################################################\n",
    "\n",
    "#Read the given corpus\n",
    "corpus = open(\"Plato_Republic.txt\", 'r').read()\n",
    "#Convert it to lower case\n",
    "corpus = corpus.lower()\n",
    "#Tokenizer which only tokenizes alpha numeric elements and ignores punctuations and stuff\n",
    "tokenizer = RegexpTokenizer(r'\\w+')\n",
    "tokens = tokenizer.tokenize(corpus)\n",
    "\n",
    "def ex1a():\n",
    "    '''Counts of words and unique words in corpus'''\n",
    "    print(\"Total Words \", len(tokens))\n",
    "    unique_word_count = len(set(tokens))\n",
    "    print(\"Unique Words \", unique_word_count)\n",
    "\n",
    "\n",
    "######################### Part 1(b) ###############################################################\n",
    "\n",
    "\n",
    "\n",
    "def ex1b(min_length=8, top_words=5):\n",
    "    '''Prints top 5 highest frequency words with length of at least 8'''\n",
    "\n",
    "    #one-liner\n",
    "    #print(list(islice(sorted({k: v for i in range(min_length,len(nltk.ConditionalFreqDist((len(word), word) for word in tokens))+1) for k, v in nltk.ConditionalFreqDist((len(word), word) for word in tokens)[i].items()}.items(), key=operator.itemgetter(1),reverse=True),top_words)))\n",
    "\n",
    "    #frequency table of all worlds of all lengths\n",
    "    master_freq_table = nltk.ConditionalFreqDist((len(word), word) for word in tokens)\n",
    "\n",
    "    # frequency table of all words of min length\n",
    "    partial_freq_table = dict()\n",
    "    for i in range(min_length,len(master_freq_table)+1):\n",
    "        partial_freq_table.update(master_freq_table[i])\n",
    "\n",
    "    #sort in decending order of frequency\n",
    "    sorted_partial_list = sorted(partial_freq_table.items(),key=operator.itemgetter(1),reverse=True)\n",
    "\n",
    "    #pick top words\n",
    "    print(list(islice(sorted_partial_list,top_words)))\n",
    "\n",
    "    \n",
    "######################## Part 1(c) ################################################################\n",
    "\n",
    "#Create your unigrams,bigrams,unigram frequencies and bigram frequencies\n",
    "bigrams = ngrams(tokens, 2)\n",
    "bigram_freq = dict(collections.Counter(bigrams))\n",
    "unigrams = ngrams(tokens,1)\n",
    "unigram_freq = dict(collections.Counter(unigrams))\n",
    "\n",
    "def probability(x1,x2):\n",
    "    '''bigram probability P(x2|x1) given x1 and x2'''\n",
    "    numerator = None\n",
    "    denominator = None\n",
    "    #check if bigrams and unigrams exist in corpus\n",
    "    try:\n",
    "        numerator = bigram_freq[(x1, x2)]\n",
    "    except:\n",
    "        print(\"Bigram does not exist\")\n",
    "        return None\n",
    "    try:\n",
    "        denominator = unigram_freq[(x1,)]\n",
    "    except:\n",
    "        print(\"Unigram does not exist\")\n",
    "        return None\n",
    "\n",
    "    return numerator/denominator\n",
    "\n",
    "######################## Part 1(D) ###################################################################\n",
    "\n",
    "def ex1d():\n",
    "    '''gets the perplexity of the bigram model'''\n",
    "    #Have to use Decimal object as if we use float, python rounds it to zero as the value of \n",
    "    #total becomes very small as we multiply small probability values in the for loop \n",
    "\n",
    "    total = Decimal(1)\n",
    "    for i in range(0, len(tokens)-2): \n",
    "        total = total * Decimal(probability(tokens[i],tokens[i+1]))\n",
    "\n",
    "    perplexity = total ** Decimal(-1*(1/(len(tokens)-1)))\n",
    "    print('Bigram model preplexity: ', perplexity)\n",
    "\n",
    "\n",
    "\n",
    "\n",
    "print(\"\\n\\nExercise 1.a - Count of words and unique words\")\n",
    "ex1a()\n",
    "\n",
    "print(\"\\n\\nExercise 1.b - Top 5 words with length of 8\")\n",
    "ex1b(min_length=8, top_words=5)\n",
    "\n",
    "print(\"\\n\\nExercise 1.c\")\n",
    "print(\"Built bigram... \")\n",
    "n_samples = list(itertools.islice(bigram_freq.items(), 0, 3))\n",
    "print(n_samples, \".... etc\\nLets now try the probability of 'the republic'\")\n",
    "print(probability(\"the\", \"republic\"))\n",
    "\n",
    "print(\"\\n\\nExercise 1.c\")\n",
    "ex1d()\n"
   ]
  },
  {
   "cell_type": "markdown",
   "metadata": {},
   "source": [
    "<br/><br/>\n",
    "\n",
    "######################################################\n",
    "## Exercise 2a\n",
    "######################################################\n",
    "\n"
   ]
  },
  {
   "cell_type": "code",
   "execution_count": 3,
   "metadata": {},
   "outputs": [
    {
     "name": "stdout",
     "output_type": "stream",
     "text": [
      "Exercise 2a: Predicting the 5 characters\n",
      "y0:  h\n",
      "y1:  e\n",
      "y2:  l\n",
      "y3:  l\n",
      "y4:  o\n"
     ]
    }
   ],
   "source": [
    "#Prepare Variables\n",
    "letters = ['h','e','l','l','o']\n",
    "index_to_letter = {0 : \"h\",\n",
    "                   1 : \"e\",\n",
    "                   2 : \"l\",\n",
    "                   3 : \"o\"\n",
    "                   }\n",
    "\n",
    "\n",
    "#one hot encoding\n",
    "embedding = OrderedDict()\n",
    "embedding[\"h\"] = np.array([[1], [0], [0], [0]])\n",
    "embedding[\"e\"] = np.array([[0], [1], [0], [0]])\n",
    "embedding[\"l\"] = np.array([[0], [0], [1], [0]])\n",
    "embedding[\"o\"] = np.array([[0], [0], [0], [1]])\n",
    "\n",
    "A = np.array([[1, -1, -0.5, 0.5],\n",
    "              [1,  1, -0.5, -1]])\n",
    "\n",
    "B = np.array([[1, 1],\n",
    "              [0.5, 1],\n",
    "              [-1, 0],\n",
    "              [0, -0.5]])\n",
    "\n",
    "R = np.array([[1, 0],\n",
    "              [0, 1]])\n",
    "\n",
    "H = np.array([[0], [0]])\n",
    "\n",
    "#Deducing the characters\n",
    "#Note: we used argmax to get Y for reproducability\n",
    "print(\"Exercise 2a: Predicting the 5 characters\")\n",
    "for i, letter in enumerate(letters):\n",
    "    H = np.tanh( np.matmul(R,H) + np.matmul(A,embedding[letter]) )\n",
    "    Y = np.matmul(B,H)\n",
    "    y_i = index_to_letter[np.argmax(Y, axis = 0)[0]]\n",
    "    print(\"y{}: \".format(i), y_i)\n"
   ]
  },
  {
   "cell_type": "markdown",
   "metadata": {},
   "source": [
    "<br/>\n",
    "\n",
    "## Exercise 2b"
   ]
  },
  {
   "cell_type": "code",
   "execution_count": 4,
   "metadata": {},
   "outputs": [
    {
     "name": "stdout",
     "output_type": "stream",
     "text": [
      "Predicted string:  oolll\n",
      "Predicted string:  olllh\n",
      "Predicted string:  olleh\n",
      "Predicted string:  oleeh\n",
      "Predicted string:  oleeh\n",
      "Predicted string:  olleh\n",
      "Predicted string:  olleh\n",
      "Predicted string:  olleh\n",
      "Predicted string:  olleh\n",
      "Predicted string:  olleh\n",
      "Predicted string:  olleh\n",
      "Predicted string:  olleh\n",
      "Predicted string:  olleh\n",
      "Predicted string:  olleh\n",
      "Predicted string:  olleh\n",
      "Predicted string:  olleh\n",
      "Predicted string:  olleh\n",
      "Predicted string:  olleh\n",
      "Predicted string:  olleh\n",
      "Predicted string:  olleh\n",
      "\n",
      "Finished learning!\n",
      "\n",
      "R =  Parameter containing:\n",
      "tensor([[-1.5341, -0.0621, -0.8918,  0.2294, -1.9080],\n",
      "        [ 0.1008,  0.3998, -0.6103, -0.7509, -1.4007],\n",
      "        [ 0.7963,  0.8967, -0.2145, -1.2562,  1.1550],\n",
      "        [-0.6697, -1.6699,  0.8084,  1.2126, -0.3248],\n",
      "        [ 1.1156,  1.7711, -0.8050, -1.4099,  0.1900]], requires_grad=True)\n",
      "A =  Parameter containing:\n",
      "tensor([[-1.7270,  0.4385,  0.9608, -1.2083],\n",
      "        [-1.4153, -0.5123,  1.4930, -0.8667],\n",
      "        [ 1.2325, -1.5124, -1.6147,  1.1082],\n",
      "        [ 1.7076,  1.5716,  0.0293, -1.0500],\n",
      "        [-0.5059, -1.0469, -0.3172,  1.0950]], requires_grad=True)\n",
      "B =  Parameter containing:\n",
      "tensor([[-1.2679, -0.3932,  1.5131, -1.8230,  1.3664],\n",
      "        [ 1.5427,  1.5461, -0.5981, -1.3131,  0.8257],\n",
      "        [ 1.5812,  0.5594, -1.5695,  1.8298, -1.9510],\n",
      "        [-1.8002, -1.5179,  1.2565,  1.8413, -0.6187]], requires_grad=True)\n"
     ]
    }
   ],
   "source": [
    "\n",
    "learning_rate = 0.1\n",
    "num_epochs = 20\n",
    "\n",
    "characters = ['h','e', 'l', 'o']\n",
    "\n",
    "Y = [3, 2, 2, 1, 0]     # olleh indexes\n",
    "\n",
    "one_hot = [[[1, 0, 0, 0], \n",
    "            [0, 1, 0, 0], \n",
    "            [0, 0, 1, 0], \n",
    "            [0, 0, 1, 0], \n",
    "            [0, 0, 0, 1], \n",
    "           ]]  \n",
    "\n",
    "\n",
    "X = Variable(torch.Tensor(one_hot))\n",
    "Y = Variable(torch.LongTensor(Y))\n",
    "\n",
    "num_classes = 4\n",
    "input_size  = 4\n",
    "hidden_size = 5  # number of hidden timesteps h_t\n",
    "num_layers  = 1  # single layer rnn\n",
    "sequence_length = 5  # |olleh| == 5\n",
    "\n",
    "\n",
    "class RNN(nn.Module):\n",
    "\n",
    "    def __init__(self, num_classes, input_size, hidden_size, num_layers):\n",
    "        super(RNN, self).__init__()\n",
    "        self.num_classes = num_classes\n",
    "        self.num_layers = num_layers\n",
    "        self.input_size = input_size\n",
    "        self.hidden_size = hidden_size\n",
    "        self.sequence_length = sequence_length\n",
    "\n",
    "        self.rnn = nn.RNN(input_size=input_size, hidden_size=hidden_size,\n",
    "                          num_layers=num_layers, batch_first=True, bias=False)\n",
    "        self.fc = nn.Linear(hidden_size, num_classes, bias=False)\n",
    "\n",
    "    def forward(self, x):\n",
    "        hidden = Variable(torch.zeros(x.size(0), self.num_layers, self.hidden_size))\n",
    "        # Reshaping input\n",
    "        x.view(x.size(0), self.sequence_length, self.input_size)\n",
    "        out, _ = self.rnn(x, hidden)\n",
    "        out = out.view(-1, self.hidden_size)\n",
    "        out = self.fc(out)\n",
    "        return out\n",
    "\n",
    "\n",
    "rnn = RNN(num_classes, input_size, hidden_size, num_layers)\n",
    "loss_function = torch.nn.CrossEntropyLoss()\n",
    "optimizer = torch.optim.Adam(rnn.parameters(), lr=learning_rate)\n",
    "\n",
    "# Train the model\n",
    "for epoch in range(num_epochs):\n",
    "    outputs = rnn(X)\n",
    "    optimizer.zero_grad()\n",
    "    loss = loss_function(outputs, Y)\n",
    "    loss.backward()\n",
    "    optimizer.step()\n",
    "    _, idx = outputs.max(1)\n",
    "    idx = idx.data.numpy()\n",
    "    res = [characters[char] for char in idx.squeeze()]\n",
    "    print(\"Predicted string: \", ''.join(res))\n",
    "\n",
    "print(\"\\nFinished learning!\\n\")\n",
    "print(\"R = \", rnn.rnn.weight_hh_l0) #R\n",
    "print(\"A = \", rnn.rnn.weight_ih_l0) # A\n",
    "print(\"B = \", rnn.fc.weight) #B"
   ]
  },
  {
   "cell_type": "markdown",
   "metadata": {},
   "source": [
    "<br/><br/>\n",
    "\n",
    "######################################################\n",
    "## Exercise 3\n",
    "######################################################\n",
    "\n",
    "\n"
   ]
  },
  {
   "cell_type": "markdown",
   "metadata": {},
   "source": [
    "## Exercise 3a\n",
    "\n",
    "\n",
    "<img src='ex3a.jpg'>\n",
    "Image/PDF 3a.jpg/3a.pdf is present in the folder"
   ]
  },
  {
   "cell_type": "markdown",
   "metadata": {},
   "source": [
    "## Exercise 3b and 3c\n",
    "\n",
    "Note: For exercise 3c, the difference in the L2 norm between Yt and peturbed Yt for eps=10^-9 is very small and gets rounded off to zero, and hence there is a warning when we try to do np.log(0)"
   ]
  },
  {
   "cell_type": "code",
   "execution_count": 5,
   "metadata": {},
   "outputs": [
    {
     "name": "stdout",
     "output_type": "stream",
     "text": [
      "Peturbation   Difference\n",
      "0.001           1.2141803312000097\n",
      "1e-04           1.212935848840391\n",
      "1e-05           1.0311684365460723\n",
      "1e-06           0.17903577475132984\n",
      "1e-07           0.018076691109826296\n",
      "1e-08           0.001807844540212555\n"
     ]
    },
    {
     "data": {
      "image/png": "[encoded data removed]",
      "text/plain": [
       "<Figure size 432x288 with 1 Axes>"
      ]
     },
     "metadata": {
      "needs_background": "light"
     },
     "output_type": "display_data"
    },
    {
     "name": "stdout",
     "output_type": "stream",
     "text": [
      "Peturbation   Difference\n",
      "0.001           1.5576887282601733e-12\n",
      "1e-04           1.5622419963903562e-13\n",
      "1e-05           1.5543915340969376e-14\n",
      "1e-06           1.5700924586837751e-15\n",
      "1e-07           1.5700924586837752e-16\n",
      "1e-08           0.0\n"
     ]
    },
    {
     "name": "stderr",
     "output_type": "stream",
     "text": [
      "/Users/vasan/.local/lib/python3.6/site-packages/ipykernel_launcher.py:67: RuntimeWarning: divide by zero encountered in log\n"
     ]
    },
    {
     "data": {
      "image/png": "[encoded data removed]",
      "text/plain": [
       "<Figure size 432x288 with 1 Axes>"
      ]
     },
     "metadata": {
      "needs_background": "light"
     },
     "output_type": "display_data"
    },
    {
     "name": "stderr",
     "output_type": "stream",
     "text": [
      "/Users/vasan/.local/lib/python3.6/site-packages/ipykernel_launcher.py:68: RuntimeWarning: divide by zero encountered in log\n"
     ]
    },
    {
     "data": {
      "image/png": "[encoded data removed]",
      "text/plain": [
       "<Figure size 432x288 with 1 Axes>"
      ]
     },
     "metadata": {
      "needs_background": "light"
     },
     "output_type": "display_data"
    }
   ],
   "source": [
    "#############################################Part 3(b) ###############################################\n",
    "pertubations = np.array([np.float32(10e-4), np.float32(10e-5), np.float32(10e-6), np.float32(10e-7), np.float32(10e-8), np.float32(10e-9)])\n",
    "\n",
    "def get_2_norm_diff(y,yp):\n",
    "    diff = y - yp\n",
    "    return LA.norm(diff,2)\n",
    "\n",
    "\n",
    "def getYt(x, pertubation, extra=False):\n",
    "    '''returns Yt'''\n",
    "    A = np.array([[1, 0],\n",
    "                  [0, 1]])\n",
    "    B = np.array([[1, 0],\n",
    "                  [0, 1]])\n",
    "    R = np.array([[0.5, -1],\n",
    "                  [-1, 0.5]])\n",
    "    H = np.array([[0],\n",
    "                  [0]])\n",
    "\n",
    "    timesteps = 30\n",
    "    if not extra:\n",
    "        x[0][0] = x[0][0] + pertubation\n",
    "        x[1][0] = x[1][0] - pertubation\n",
    "    else:\n",
    "        x[0][0] = x[0][0] + pertubation\n",
    "        x[1][0] = x[1][0] + pertubation\n",
    "        \n",
    "    for i in range(0, timesteps):\n",
    "        if i == 0:\n",
    "            H = np.tanh( np.matmul(R, H) + np.matmul(A, x) ) \n",
    "            continue\n",
    "        H = np.tanh( np.matmul(R, H) ) \n",
    "    return ( np.matmul(B, H) )\n",
    "\n",
    "\n",
    "def plot(pertubations, y_diff, title):\n",
    "    plt.plot(pertubations, y_diff)\n",
    "    plt.xlabel(\"Log(Pertubation)\")\n",
    "    plt.ylabel(\"Log(|| y - yp ||)\")\n",
    "    plt.title(title)\n",
    "    plt.show()\n",
    "    \n",
    "\n",
    "def ex3b():\n",
    "    y_diff = list()\n",
    "    yt = getYt([[0], [0]], 0)\n",
    "    print(\"Peturbation   Difference\")\n",
    "    for pertubation in pertubations:\n",
    "        diff = get_2_norm_diff(yt, getYt([[0],[0]], pertubation))\n",
    "        y_diff.append(diff)\n",
    "        print(pertubation, \"         \", diff)\n",
    "    plot(np.log(pertubations), np.log(np.array(y_diff)), \"3b\")\n",
    "    return np.log(pertubations), np.log(np.array(y_diff))\n",
    "\n",
    "\n",
    "\n",
    "################################Part 3(C)####################################################################\n",
    "\n",
    "def ex3c():\n",
    "    y_diff = list()\n",
    "    yt = getYt([[2], [1]], 0)\n",
    "    print(\"Peturbation   Difference\")\n",
    "    for pertubation in pertubations:\n",
    "        diff = get_2_norm_diff(yt, getYt([[2],[1]], pertubation))\n",
    "        y_diff.append(diff)\n",
    "        print(pertubation, \"         \", diff)\n",
    "    plot(np.log(pertubations), np.log(np.array(y_diff)), \"3c\")\n",
    "    return np.log(pertubations), np.log(np.array(y_diff))\n",
    "\n",
    "\n",
    "\n",
    "\n",
    "peturbations_b, diff_b = ex3b()\n",
    "peturbations_c, diff_c = ex3c()\n",
    "plt.plot(peturbations_b, diff_b, label=\"3b\")\n",
    "plt.plot(peturbations_c, diff_c, label=\"3c\")\n",
    "plt.legend()\n",
    "plt.title(\"3b vs 3c\")\n",
    "plt.xlabel(\"Log(Pertubation)\")\n",
    "plt.ylabel(\"Log(|| y - yp ||)\")\n",
    "plt.show()"
   ]
  },
  {
   "cell_type": "markdown",
   "metadata": {},
   "source": [
    "## Explanation 3b\n",
    "In the case of 3b we see the L2 norm of the difference between y values at time t with and without perturbation when x=(0, 0)and purtubation=(eps, -eps). We can observe that on increasing the peturbabtion the L2 norm difference increases significantly and caps off at a value. Just as we foresaw with illustration of the deduction in 3a.  \n",
    "\n",
    "## Explanation 3c\n",
    "In the case of 3c we see the L2 norm of the difference between the y values at time t with and without perturbation, when x=(2, 1)and purtubation=(eps, -eps). We can observe that on increasing puterbation the value of the L2 norm does not increase by much. This is because he tanh function squashes the values of the hidden state very close to its extremes [-1,+1] which causes vanishing gradient effect. "
   ]
  },
  {
   "cell_type": "code",
   "execution_count": 6,
   "metadata": {},
   "outputs": [
    {
     "name": "stdout",
     "output_type": "stream",
     "text": [
      "Peturbation   Difference\n",
      "0.001           2.634176986302348e-12\n",
      "1e-04           2.6341779536784864e-13\n",
      "1e-05           2.6341779652688685e-14\n",
      "1e-06           2.6341780252790462e-15\n",
      "1e-07           2.634178062714127e-16\n",
      "1e-08           2.6341780159217365e-17\n"
     ]
    },
    {
     "data": {
      "image/png": "[encoded data removed]",
      "text/plain": [
       "<Figure size 432x288 with 1 Axes>"
      ]
     },
     "metadata": {
      "needs_background": "light"
     },
     "output_type": "display_data"
    },
    {
     "data": {
      "text/plain": [
       "(array([ -6.9077554,  -9.2103405, -11.512925 , -13.815511 , -16.118095 ,\n",
       "        -18.420681 ], dtype=float32),\n",
       " array([-26.66245032, -28.96503505, -31.26762014, -33.57020521,\n",
       "        -35.87279029, -38.1753754 ]))"
      ]
     },
     "execution_count": 6,
     "metadata": {},
     "output_type": "execute_result"
    }
   ],
   "source": [
    "def ex_3extra():\n",
    "    y_diff = list()\n",
    "    yt = getYt([[0], [0]], 0)\n",
    "    print(\"Peturbation   Difference\")\n",
    "    for pertubation in pertubations:\n",
    "        diff = get_2_norm_diff(yt, getYt([[0],[0]], pertubation, extra=True))\n",
    "        y_diff.append(diff)\n",
    "        print(pertubation, \"         \", diff)\n",
    "    plot(np.log(pertubations), np.log(np.array(y_diff)), \"3b\")\n",
    "    return np.log(pertubations), np.log(np.array(y_diff))\n",
    "\n",
    "ex_3extra()"
   ]
  },
  {
   "cell_type": "markdown",
   "metadata": {},
   "source": [
    "## Explanation 3extra\n",
    "The puterbation had little effect in this case of having x=(0,0) and puterbation of (eps,eps) because the effect of multiplying the hidden state with R specifically in this case does not significantly increment the values of every dimension of the hidden state from timestep to time step. This overall causes the puterbed y value to not differ much from the unputerbed one. Overall when x=(0,0) we can expect both an increase or a no increase in y value with puterbation as it also depends a lot on the matrices R and A.   "
   ]
  }
 ],
 "metadata": {
  "kernelspec": {
   "display_name": "apm",
   "language": "python",
   "name": "apm"
  },
  "language_info": {
   "codemirror_mode": {
    "name": "ipython",
    "version": 3
   },
   "file_extension": ".py",
   "mimetype": "text/x-python",
   "name": "python",
   "nbconvert_exporter": "python",
   "pygments_lexer": "ipython3",
   "version": "3.6.10"
  }
 },
 "nbformat": 4,
 "nbformat_minor": 4
}
