{
 "cells": [
  {
   "cell_type": "markdown",
   "metadata": {},
   "source": [
    "## APM 598 - Intro to Deep Learning - Homework 1\n",
    "\n",
    "<pre>\n",
    "Team Members:\n",
    "Sreenivasan Ramesh      -  1217310913  - sreenivasan.ramesh@gmail.com\n",
    "Tanush Vinay            -  1217104733  - tvinay@asu.edu\n",
    "Muskan Singhal          -  1217107320  - msingha5@asu.edu\n",
    "Paarvendhan Puviyarasu  -  1217390616  - ppuviyar@asu.edu\n",
    "</pre>\n",
    "</br>"
   ]
  },
  {
   "cell_type": "code",
   "execution_count": 1,
   "metadata": {},
   "outputs": [],
   "source": [
    "import numpy as np\n",
    "import matplotlib.pyplot as plt\n",
    "from torchvision import datasets\n",
    "import matplotlib.pyplot as plt\n",
    "from torch.utils.data import DataLoader\n",
    "import torch\n",
    "from torch import nn\n",
    "from torchvision import transforms"
   ]
  },
  {
   "cell_type": "markdown",
   "metadata": {},
   "source": [
    "############################################## \n",
    "\t\t## Exercise 1 (Python) ## \n",
    "##############################################"
   ]
  },
  {
   "cell_type": "code",
   "execution_count": null,
   "metadata": {},
   "outputs": [],
   "source": [
    "'''Exercise 1a, 1b, 1c'''\n",
    "filepath = 'data_HW1_ex1.csv'\n",
    "data = np.loadtxt(filepath, delimiter=',') \n",
    "x, y = data[:,0], data[:,1]\n",
    "x_train, y_train = data[0:int(len(data)*0.8), 0], data[0:int(len(data)*0.8), 1]\n",
    "x_test, y_test = data[int(len(data)*0.8):, 0], data[int(len(data)*0.8):, 1]\n",
    "k = 12\n",
    "\n",
    "\n",
    "def loss(degree, x, y):\n",
    "    '''This function computes the loss'''\n",
    "    return np.sum((np.polyval(np.polyfit(x, y, degree), x) - y)**2)\n",
    "\n",
    "\n",
    "def ex1a():\n",
    "    losses = list()\n",
    "    for degree in range(0, k):\n",
    "        losses.append(loss(degree, x, y))\n",
    "    #plot loss against k (k = degree of polynomial)\n",
    "    plt.figure('Ex. 1a - Loss function vs Poly Degree')\n",
    "    plt.plot(range(0, k), losses, 'b-')\n",
    "    plt.xlabel('Degree K')\n",
    "    plt.ylabel('Loss')\n",
    "    plt.show()\n",
    "    \n",
    "def ex1bc():\n",
    "    train_error = list()\n",
    "    test_error = list()\n",
    "\n",
    "    for degree in range(0, k+1):\n",
    "        train_error.append(loss(degree, x_train, y_train))\n",
    "        poly_fit = np.poly1d(np.polyfit(x_train, y_train, degree))\n",
    "        predict = poly_fit(x_test)\n",
    "        test_error.append(np.sum((predict-y_test)**2))\n",
    "    print('Degree   TrainLoss   TestLoss')\n",
    "    for degree, (train_err, test_err) in enumerate(zip(train_error, test_error)):\n",
    "        print('%-9i%-13.2f%.2f'%(degree, train_err, test_err))\n",
    "    k_star = test_error.index(min(test_error))\n",
    "    print('\\nOrder k* = {} since it has the least test error\\n'.format(k_star))\n",
    "    coeffs = np.polyfit(x, y, k_star)\n",
    "    print('\\nCoeffs for k*(2): ', coeffs)\n",
    "\n",
    "    #display test vs train loss\n",
    "    fig = plt.figure('Ex. 1b - Test/Train Loss vs Poly Degree', figsize=(12,5))\n",
    "    ax1 = fig.add_subplot(1, 2, 1)\n",
    "    train_line, = ax1.plot(range(0, k+1), train_error, c='b')\n",
    "    test_line, = ax1.plot(range(0, k+1), test_error, c='r')\n",
    "    ax1.set(xlabel=\"Degree K\", ylabel=\"Loss\")\n",
    "    ax1.legend([train_line, test_line], [\"Train Loss\", \"Test Loss\"])\n",
    "\n",
    "    #display polyfit\n",
    "    ax2 = fig.add_subplot(1, 2, 2)\n",
    "    predict = np.poly1d(np.polyfit(x, y, k_star))\n",
    "    ax2.plot(x, y, 'bo')\n",
    "    x_sort = sorted(x)\n",
    "    p_fit, = ax2.plot(x_sort, predict(x_sort), 'r-')\n",
    "    ax2.set(xlabel=\"x\", ylabel=\"y\")\n",
    "    ax2.legend([p_fit], [\"K* = {}\".format(k_star)])\n",
    "    plt.show()\n",
    "     "
   ]
  },
  {
   "cell_type": "code",
   "execution_count": null,
   "metadata": {},
   "outputs": [],
   "source": [
    "print('\\n******* Exercise 1 ********\\n')\n",
    "ex1a()\n",
    "ex1bc()\n"
   ]
  },
  {
   "cell_type": "markdown",
   "metadata": {},
   "source": [
    "Guess for k* is 2, since we get the lowest test loss with k=2"
   ]
  },
  {
   "cell_type": "markdown",
   "metadata": {},
   "source": []
  },
  {
   "cell_type": "markdown",
   "metadata": {},
   "source": [
    "</br></br>\n",
    "############################################## \n",
    "    ## Exercise 2 (Python) ## \n",
    "##############################################\n",
    "</br></br>\n"
   ]
  },
  {
   "cell_type": "markdown",
   "metadata": {},
   "source": [
    "We are given a loss function. To get the gradient of the loss function, we\n",
    "- differentiate the loss, with respext to a and b\n",
    "- we equate the first order differentials to zero\n",
    "- and we solve the two equations simultaneously to equations for get a and b\n",
    "- upon pugging in xi and yi values, we will be able to get a* and b*\n",
    "</br></br>\n",
    "_note: The derivations and equations are provided in the 2a.pdf / 2a.jpg files_"
   ]
  },
  {
   "cell_type": "markdown",
   "metadata": {},
   "source": [
    "<img src='2a.jpg'>"
   ]
  },
  {
   "cell_type": "code",
   "execution_count": 4,
   "metadata": {},
   "outputs": [],
   "source": [
    "'''Exercise 2a, 2b, 2c'''\n",
    "\n",
    "\n",
    "def loss(a, b, x_train, y_train):\n",
    "    '''loss function'''\n",
    "    n = len(x_train)\n",
    "    loss = 1/n * (np.sum(y_train - (a + b*x_train))**2)\n",
    "    print(loss)\n",
    "\n",
    "\n",
    "def calculate_minima(x_train, y_train):\n",
    "    '''calculating minima for 2a'''\n",
    "    #Upon differentiating the system of mse loss with respect to 2 variables a and b and\n",
    "    #equating the first order differential to 0, \n",
    "    #we get the following equations for a and b to find their minimum.\n",
    "    n = len(x_train)\n",
    "    b_star = (np.sum(x_train*y_train) - (1/n*(np.sum(x_train)*np.sum(y_train)))) / (np.sum((x_train**2)) - (1/n*(np.sum(x_train)**2)))\n",
    "    a_star = 1/n *(np.sum(y_train) - (b_star * np.sum(x_train)))\n",
    "    return np.array([a_star,b_star])\n",
    "\n",
    "\n",
    "\n",
    "def gradient_descent(x_train, y_train, a0, b0, learning_rate, optimal_numerical_ab):\n",
    "    '''gradient descent'''\n",
    "    iteration = 1\n",
    "    n = len(x_train)\n",
    "    old_ab = np.array([a0, b0])\n",
    "    a = old_ab[0]\n",
    "    b = old_ab[1]\n",
    "    gradient_a = 1/n * (np.sum(-2*(y_train - a - (b * x_train))))\n",
    "    gradient_b = 1/n * (np.sum(-2*((x_train*y_train) - (a*x_train) - (b*(x_train**2)))))\n",
    "    grad_ab = np.array([gradient_a,gradient_b])\n",
    "    new_ab = old_ab - (learning_rate*(grad_ab))\n",
    "    while((new_ab - old_ab).all() !=0):\n",
    "        iteration += 1\n",
    "        old_ab = new_ab\n",
    "        a = old_ab[0]\n",
    "        b = old_ab[1]\n",
    "        gradient_a = 1/n * (np.sum(-2*(y_train - a - (b * x_train))))\n",
    "        gradient_b = 1/n * (np.sum(-2*((x_train*y_train) - (a*x_train) - (b*(x_train**2)))))\n",
    "        grad_ab = np.array([gradient_a,gradient_b])\n",
    "        new_ab = old_ab - (learning_rate*(grad_ab))\n",
    "    return [iteration, new_ab]\n",
    "\n",
    "\n",
    "\n",
    "def momentum(x_train, y_train, gamma, a0, b0, learning_rate):\n",
    "    '''momentum'''\n",
    "    iteration = 1\n",
    "    n = len(x_train)\n",
    "    v_n = np.array([0.0,0.0])\n",
    "    old_ab = np.array([a0,b0])\n",
    "    a, b = old_ab[0], old_ab[1]\n",
    "    gradient_a = 1/n * (np.sum(-2*(y_train - a - (b * x_train))))\n",
    "    gradient_b = 1/n * (np.sum(-2*((x_train*y_train) - (a*x_train) - (b*(x_train**2)))))\n",
    "    grad_ab = np.array([gradient_a,gradient_b])\n",
    "    new_v_n = (gamma * v_n) + (learning_rate*grad_ab)\n",
    "    new_ab = old_ab - new_v_n\n",
    "    while((new_ab - old_ab).all() !=0):\n",
    "        iteration += 1\n",
    "        old_ab = new_ab\n",
    "        v_n = new_v_n\n",
    "        a = old_ab[0]\n",
    "        b = old_ab[1]\n",
    "        gradient_a = 1/n * (np.sum(-2*(y_train - a - (b * x_train))))\n",
    "        gradient_b = 1/n * (np.sum(-2*((x_train*y_train) - (a*x_train) - (b*(x_train**2)))))\n",
    "        grad_ab = np.array([gradient_a,gradient_b])\n",
    "        new_v_n = (gamma * v_n) + (learning_rate*grad_ab)\n",
    "        new_ab = old_ab - new_v_n\n",
    "    return [iteration, new_ab]\n",
    "\n",
    "\n",
    "\n",
    "def nesterov_momentum(x_train,y_train,gamma, a0, b0, learning_rate):\n",
    "    '''nesterov momentum'''\n",
    "    iteration = 1\n",
    "    n = len(x_train)\n",
    "    v_n = np.array([0.0,0.0])\n",
    "    old_ab = np.array([a0,b0])\n",
    "    a, b = old_ab[0], old_ab[1]\n",
    "    gradient_a = 1/n * (np.sum(-2*(y_train - a -(gamma*v_n[0]) - ((b-(gamma*v_n[1])) * x_train))))\n",
    "    gradient_b = 1/n * (np.sum(-2*((x_train*y_train) - ((a-(gamma*v_n[0]))*x_train) - ((b-(gamma*v_n[1]))*(x_train**2)))))\n",
    "    grad_ab = np.array([gradient_a,gradient_b])\n",
    "    new_v_n = (gamma * v_n) + (learning_rate*grad_ab)\n",
    "    new_ab = old_ab - new_v_n\n",
    "    while((new_ab - old_ab).all() !=0):\n",
    "        iteration += 1\n",
    "        old_ab = new_ab\n",
    "        v_n = new_v_n\n",
    "        a = old_ab[0]\n",
    "        b = old_ab[1]\n",
    "        gradient_a = 1/n * (np.sum(-2*(y_train - (a -(gamma*v_n[0])) - ((b-(gamma*v_n[1])) * x_train))))\n",
    "        gradient_b = 1/n * (np.sum(-2*((x_train*y_train) - ((a-(gamma*v_n[0]))*x_train) - ((b-(gamma*v_n[1]))*(x_train**2)))))\n",
    "        grad_ab = np.array([gradient_a,gradient_b])\n",
    "        new_v_n = (gamma * v_n) + (learning_rate*grad_ab)\n",
    "        new_ab = old_ab - new_v_n\n",
    "    return [iteration, new_ab]\n",
    "\n"
   ]
  },
  {
   "cell_type": "code",
   "execution_count": 5,
   "metadata": {},
   "outputs": [
    {
     "name": "stdout",
     "output_type": "stream",
     "text": [
      "\n",
      "******* Exercise 2a *************\n",
      "\n",
      "Deducing a* b* numerically:\n",
      "a_star: -0.91372385011034\n",
      "b_star:  1.356735000649594\n",
      "\n"
     ]
    }
   ],
   "source": [
    "'''Exercise 2a - Deduce the Minimum Numerically'''\n",
    "#since we're deducing the gradient, we;ve used all points\n",
    "x_train = data[0:int(len(data)), 0]\n",
    "y_train = data[0:int(len(data)), 1]\n",
    "\n",
    "print('\\n******* Exercise 2a *************\\n')\n",
    "optimal_ab = calculate_minima(x_train,y_train)\n",
    "print('Deducing a* b* numerically:\\na_star: {}\\nb_star:  {}\\n'.format(optimal_ab[0], optimal_ab[1]))"
   ]
  },
  {
   "cell_type": "code",
   "execution_count": 6,
   "metadata": {},
   "outputs": [
    {
     "name": "stdout",
     "output_type": "stream",
     "text": [
      "\n",
      "\n",
      "******* Exercise 2b, 2c ********\n",
      "Method             Iterations    a_star    b_star\n",
      "Gradient Descent   4083          -0.9137   1.3567\n",
      "Using Momentum     624           -0.9137   1.3567\n",
      "Nesterov Momentum  540           -0.9137   1.3567\n"
     ]
    }
   ],
   "source": [
    "print('\\n\\n******* Exercise 2b, 2c ********')\n",
    "a0 = 1.8\n",
    "b0 = 1.4\n",
    "learning_rate = 0.05\n",
    "gamma = 0.9\n",
    "\n",
    "print('Method             Iterations    a_star    b_star')\n",
    "iterations, new_ab = gradient_descent(x_train, y_train, a0, b0, learning_rate, optimal_ab)\n",
    "print('Gradient Descent   %-14i%-10.4f%.4f'%(iterations, new_ab[0], new_ab[1]))\n",
    "\n",
    "iterations, new_ab_momentum = momentum(x_train, y_train, gamma, a0, b0, learning_rate)\n",
    "print('Using Momentum     %-14i%-10.4f%.4f'%(iterations, new_ab_momentum[0], new_ab_momentum[1]))\n",
    "\n",
    "iterations, new_ab_nesterov = nesterov_momentum(x_train, y_train,gamma, a0, b0, learning_rate)\n",
    "print('Nesterov Momentum  %-14i%-10.4f%.4f'%(iterations, new_ab_nesterov[0], new_ab_nesterov[1]))"
   ]
  },
  {
   "cell_type": "markdown",
   "metadata": {},
   "source": [
    "</br>\n",
    "We see that gradient takes the most number of iterations to converge. </br>\n",
    "Using momentum reducs the number of iterations to reach the same point.</br>\n",
    "Nesterov Momentum takes the least number of iterations."
   ]
  },
  {
   "cell_type": "markdown",
   "metadata": {},
   "source": []
  },
  {
   "cell_type": "markdown",
   "metadata": {},
   "source": [
    "</br></br>\n",
    "############################################## \n",
    "    ## Exercise 3 (Python) ## \n",
    "##############################################\n",
    "</br></br>"
   ]
  },
  {
   "cell_type": "code",
   "execution_count": null,
   "metadata": {},
   "outputs": [
    {
     "name": "stdout",
     "output_type": "stream",
     "text": [
      "******** 3a/b. Training the model ********\n",
      "Epoch1...\n",
      "Epoch: 1   Average Loss:0.7104062395040567\n",
      "Epoch: 2   Average Loss:0.5153351884400161\n",
      "Epoch: 3   Average Loss:0.47707004281822785\n",
      "Epoch: 4   Average Loss:0.45686964267330865\n",
      "Epoch: 5   Average Loss:0.4436050772742892\n",
      "Epoch: 6   Average Loss:0.4341782736311279\n",
      "Epoch: 7   Average Loss:0.4267614948740763\n",
      "Epoch: 8   Average Loss:0.4213390374780555\n",
      "Epoch: 9   Average Loss:0.41676655061615164\n",
      "Epoch: 10   Average Loss:0.4122927877229192\n",
      "Epoch: 11   Average Loss:0.40909827903906504\n",
      "Epoch: 12   Average Loss:0.4063789827695378\n",
      "Epoch: 13   Average Loss:0.40379856264955405\n",
      "Epoch: 14   Average Loss:0.40119862130430606\n",
      "Epoch: 15   Average Loss:0.3990019700946592\n",
      "Epoch: 16   Average Loss:0.39675837728932384\n",
      "Epoch: 17   Average Loss:0.3953650175092412\n",
      "Epoch: 18   Average Loss:0.3943526683848089\n",
      "Epoch: 19   Average Loss:0.39206521415633516\n"
     ]
    }
   ],
   "source": [
    "'''Exercise 3a, 3b'''\n",
    "#hyperparameters\n",
    "n_epochs = 40\n",
    "learning_rate = 0.0001\n",
    "batch_size = 4\n",
    "\n",
    "#downloading the data\n",
    "batch_size = 4\n",
    "training_set = datasets.FashionMNIST('data',train=True,download=True,transform=transforms.ToTensor())\n",
    "testing_set = datasets.FashionMNIST('data',train=False,download=True,transform=transforms.ToTensor())\n",
    "train_data = DataLoader(training_set,shuffle=True,batch_size=batch_size)\n",
    "test_data = DataLoader(testing_set,shuffle=False,batch_size=batch_size)\n",
    "\n",
    "\n",
    "#network\n",
    "network = nn.Linear(28*28,10)\n",
    "optimizer = torch.optim.Adam(network.parameters(),lr=learning_rate)\n",
    "cal_loss = nn.CrossEntropyLoss()\n",
    "\n",
    "track_loss=[]\n",
    "#training\n",
    "print('******** 3a/b. Training the model ********\\nEpoch1...')\n",
    "for epoch in range(n_epochs):\n",
    "    running_loss = 0\n",
    "    minibatch = 0\n",
    "    for img, lbl in train_data:\n",
    "        optimizer.zero_grad()\n",
    "        N, _, h, w = img.size()\n",
    "        score = network(img.view(N,h*w))\n",
    "        loss = cal_loss(score,lbl)\n",
    "        loss.backward()\n",
    "        optimizer.step()\n",
    "        running_loss += loss.detach().numpy()\n",
    "        minibatch += 1\n",
    "    avg_loss = running_loss/minibatch\n",
    "    track_loss.append(avg_loss)\n",
    "    print(\"Epoch: {}   Average Loss:{}\".format(epoch+1, avg_loss))\n",
    "    \n",
    "print('\\n******* 3b. Loss vs Epoch ********')   \n",
    "#Plot training statistics\n",
    "plt.plot([i for i in range(n_epochs) ],track_loss)\n",
    "plt.xlabel(\"Epoch\")\n",
    "plt.ylabel(\"Loss\")\n",
    "plt.show()\n",
    "weights = network.state_dict()['weight']\n",
    "plt.clf()"
   ]
  },
  {
   "cell_type": "code",
   "execution_count": 69,
   "metadata": {},
   "outputs": [
    {
     "data": {
      "text/plain": [
       "<matplotlib.colorbar.Colorbar at 0x1291211d0>"
      ]
     },
     "execution_count": 69,
     "metadata": {},
     "output_type": "execute_result"
    },
    {
     "data": {
      "image/png": "[encoded data removed]",
      "text/plain": [
       "<Figure size 432x288 with 1 Axes>"
      ]
     },
     "metadata": {
      "needs_background": "light"
     },
     "output_type": "display_data"
    },
    {
     "data": {
      "image/png": "[encoded data removed]",
      "text/plain": [
       "<Figure size 432x288 with 1 Axes>"
      ]
     },
     "metadata": {
      "needs_background": "light"
     },
     "output_type": "display_data"
    },
    {
     "data": {
      "image/png": "[encoded data removed]",
      "text/plain": [
       "<Figure size 432x288 with 1 Axes>"
      ]
     },
     "metadata": {
      "needs_background": "light"
     },
     "output_type": "display_data"
    },
    {
     "data": {
      "image/png": "[encoded data removed]",
      "text/plain": [
       "<Figure size 432x288 with 1 Axes>"
      ]
     },
     "metadata": {
      "needs_background": "light"
     },
     "output_type": "display_data"
    },
    {
     "data": {
      "image/png": "[encoded data removed]",
      "text/plain": [
       "<Figure size 432x288 with 1 Axes>"
      ]
     },
     "metadata": {
      "needs_background": "light"
     },
     "output_type": "display_data"
    },
    {
     "data": {
      "image/png": "[encoded data removed]",
      "text/plain": [
       "<Figure size 432x288 with 1 Axes>"
      ]
     },
     "metadata": {
      "needs_background": "light"
     },
     "output_type": "display_data"
    },
    {
     "data": {
      "image/png": "[encoded data removed]",
      "text/plain": [
       "<Figure size 432x288 with 1 Axes>"
      ]
     },
     "metadata": {
      "needs_background": "light"
     },
     "output_type": "display_data"
    },
    {
     "data": {
      "image/png": "[encoded data removed]",
      "text/plain": [
       "<Figure size 432x288 with 1 Axes>"
      ]
     },
     "metadata": {
      "needs_background": "light"
     },
     "output_type": "display_data"
    },
    {
     "data": {
      "image/png": "[encoded data removed]",
      "text/plain": [
       "<Figure size 432x288 with 1 Axes>"
      ]
     },
     "metadata": {
      "needs_background": "light"
     },
     "output_type": "display_data"
    },
    {
     "data": {
      "image/png": "[encoded data removed]",
      "text/plain": [
       "<Figure size 432x288 with 2 Axes>"
      ]
     },
     "metadata": {
      "needs_background": "light"
     },
     "output_type": "display_data"
    }
   ],
   "source": [
    "'''Exercise 3c - drawing the template classes'''\n",
    "\n",
    "classes = ['T-shirt/top','Trouser','Pullover','Dress','Coat','Sandal','Shirt','Sneaker','Bag','Ankle boot']\n",
    "for i in range(10):\n",
    "    plt.figure()\n",
    "    plt.imshow(weights[i].view(28,28),vmin=-0.5,vmax=0.5,cmap='seismic')\n",
    "    plt.title('Class {}'.format(classes[i]))\n",
    "  \n",
    "plt.colorbar(extend='both')"
   ]
  }
 ],
 "metadata": {
  "kernelspec": {
   "display_name": "apm",
   "language": "python",
   "name": "apm"
  },
  "language_info": {
   "codemirror_mode": {
    "name": "ipython",
    "version": 3
   },
   "file_extension": ".py",
   "mimetype": "text/x-python",
   "name": "python",
   "nbconvert_exporter": "python",
   "pygments_lexer": "ipython3",
   "version": "3.6.10"
  }
 },
 "nbformat": 4,
 "nbformat_minor": 4
}
